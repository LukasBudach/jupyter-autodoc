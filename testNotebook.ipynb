{
 "cells": [
  {
   "cell_type": "markdown",
   "source": [
    "### Markdown Cell\n",
    "This is a markdown cell"
   ],
   "metadata": {
    "collapsed": false,
    "pycharm": {
     "name": "#%% md\n"
    }
   }
  },
  {
   "cell_type": "code",
   "execution_count": 1,
   "metadata": {
    "collapsed": true
   },
   "outputs": [],
   "source": [
    "def testFunction():\n",
    "    print('This is a test function!')"
   ]
  },
  {
   "cell_type": "code",
   "execution_count": 2,
   "outputs": [],
   "source": [
    "def fWithParams(param1, param2): # def commentedFunction():\n",
    "    print('Param 1: {}\\nParam 2: {}'.format(param1, param2))"
   ],
   "metadata": {
    "collapsed": false,
    "pycharm": {
     "name": "#%%\n"
    }
   }
  },
  {
   "cell_type": "code",
   "execution_count": 3,
   "outputs": [
    {
     "name": "stdout",
     "output_type": "stream",
     "text": [
      "This is a test function!\n"
     ]
    }
   ],
   "source": [
    "testFunction()"
   ],
   "metadata": {
    "collapsed": false,
    "pycharm": {
     "name": "#%%\n"
    }
   }
  },
  {
   "cell_type": "code",
   "execution_count": 4,
   "outputs": [
    {
     "name": "stdout",
     "output_type": "stream",
     "text": [
      "Param 1: Hello\n",
      "Param 2: World!\n"
     ]
    }
   ],
   "source": [
    "fWithParams('Hello', 'World!')"
   ],
   "metadata": {
    "collapsed": false,
    "pycharm": {
     "name": "#%%\n"
    }
   }
  },
  {
   "cell_type": "code",
   "execution_count": null,
   "outputs": [],
   "source": [
    "  # def commentedFunction():\n",
    "def uncommentedFunction(parameter1, parameter2): # def commentedFunction(param1, param2):\n",
    "    print('Thie was an uncommented function!')\n",
    "\n",
    "def secondFunction(onlyOneParameter):\n",
    "    print('Ping')"
   ],
   "metadata": {
    "collapsed": false,
    "pycharm": {
     "name": "#%%\n"
    }
   }
  },
  {
   "cell_type": "code",
   "execution_count": 7,
   "outputs": [],
   "source": [
    "def multilineFunction(\n",
    "        param1,\n",
    "        param2,\n",
    "        param3,\n",
    "):\n",
    "    print('Multiline')"
   ],
   "metadata": {
    "collapsed": false,
    "pycharm": {
     "name": "#%%\n"
    }
   }
  },
  {
   "cell_type": "code",
   "execution_count": 8,
   "outputs": [
    {
     "name": "stdout",
     "output_type": "stream",
     "text": [
      "Multiline\n"
     ]
    }
   ],
   "source": [
    "multilineFunction(1, 2, 3)"
   ],
   "metadata": {
    "collapsed": false,
    "pycharm": {
     "name": "#%%\n"
    }
   }
  },
  {
   "cell_type": "code",
   "execution_count": 9,
   "outputs": [],
   "source": [
    "def outerFunction():\n",
    "    def indentedFunction(par1, par2):\n",
    "        pass"
   ],
   "metadata": {
    "collapsed": false,
    "pycharm": {
     "name": "#%%\n"
    }
   }
  },
  {
   "cell_type": "code",
   "execution_count": 11,
   "outputs": [],
   "source": [
    "def commentedFunction(param):\n",
    "    \"\"\" This function already has a complete docstring, so no need to add a new one!\n",
    "\n",
    "    :param param: a generic parameter\n",
    "    :type param: int\n",
    "    :return: nothing\n",
    "    :rtype: None\n",
    "    \"\"\"\n",
    "    pass\n",
    "\n",
    "def uncommentedFunction(param):\n",
    "    pass"
   ],
   "metadata": {
    "collapsed": false,
    "pycharm": {
     "name": "#%%\n"
    }
   }
  },
  {
   "cell_type": "code",
   "execution_count": null,
   "outputs": [],
   "source": [],
   "metadata": {
    "collapsed": false,
    "pycharm": {
     "name": "#%%\n"
    }
   }
  }
 ],
 "metadata": {
  "kernelspec": {
   "display_name": "Python 3",
   "language": "python",
   "name": "python3"
  },
  "language_info": {
   "codemirror_mode": {
    "name": "ipython",
    "version": 2
   },
   "file_extension": ".py",
   "mimetype": "text/x-python",
   "name": "python",
   "nbconvert_exporter": "python",
   "pygments_lexer": "ipython2",
   "version": "2.7.6"
  }
 },
 "nbformat": 4,
 "nbformat_minor": 0
}