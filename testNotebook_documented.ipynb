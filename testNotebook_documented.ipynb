{
 "cells": [
  {
   "cell_type": "markdown",
   "source": [
    "### Markdown Cell\n",
    "This is a markdown cell"
   ],
   "metadata": {
    "collapsed": false,
    "pycharm": {
     "name": "#%% md\n"
    }
   }
  },
  {
   "cell_type": "code",
   "execution_count": 1,
   "metadata": {
    "collapsed": true
   },
   "outputs": [],
   "source": [
    "def testFunction():\n",
    "# TODO: Fill out auto-generated docstring\n    \"\"\" Description of what function testFunction does. Can be multiline.\n    :returns: What does the function return?\n    :rtype: Type of the return value\n    \"\"\"\n",
    "    print('This is a test function!')"
   ]
  },
  {
   "cell_type": "code",
   "execution_count": 2,
   "outputs": [],
   "source": [
    "def fWithParams(param1, param2): # def commentedFunction():\n",
    "# TODO: Fill out auto-generated docstring\n    \"\"\" Description of what function fWithParams does. Can be multiline.\n    :param param1: Parameter description for param1\n    :type param1: Type of param1\n    :param param2: Parameter description for param2\n    :type param2: Type of param2\n    :returns: What does the function return?\n    :rtype: Type of the return value\n    \"\"\"\n",
    "    print('Param 1: {}\\nParam 2: {}'.format(param1, param2))"
   ],
   "metadata": {
    "collapsed": false,
    "pycharm": {
     "name": "#%%\n"
    }
   }
  },
  {
   "cell_type": "code",
   "execution_count": 3,
   "outputs": [
    {
     "name": "stdout",
     "output_type": "stream",
     "text": [
      "This is a test function!\n"
     ]
    }
   ],
   "source": [
    "testFunction()"
   ],
   "metadata": {
    "collapsed": false,
    "pycharm": {
     "name": "#%%\n"
    }
   }
  },
  {
   "cell_type": "code",
   "execution_count": 4,
   "outputs": [
    {
     "name": "stdout",
     "output_type": "stream",
     "text": [
      "Param 1: Hello\n",
      "Param 2: World!\n"
     ]
    }
   ],
   "source": [
    "fWithParams('Hello', 'World!')"
   ],
   "metadata": {
    "collapsed": false,
    "pycharm": {
     "name": "#%%\n"
    }
   }
  },
  {
   "cell_type": "code",
   "execution_count": null,
   "outputs": [],
   "source": [
    "  # def commentedFunction():\n",
    "def uncommentedFunction(parameter1, parameter2): # def commentedFunction(param1, param2):\n",
    "# TODO: Fill out auto-generated docstring\n    \"\"\" Description of what function uncommentedFunction does. Can be multiline.\n    :param parameter1: Parameter description for parameter1\n    :type parameter1: Type of parameter1\n    :param parameter2: Parameter description for parameter2\n    :type parameter2: Type of parameter2\n    :returns: What does the function return?\n    :rtype: Type of the return value\n    \"\"\"\n",
    "    print('Thie was an uncommented function!')\n",
    "\n",
    "def secondFunction(onlyOneParameter):\n",
    "# TODO: Fill out auto-generated docstring\n    \"\"\" Description of what function secondFunction does. Can be multiline.\n    :param onlyOneParameter: Parameter description for onlyOneParameter\n    :type onlyOneParameter: Type of onlyOneParameter\n    :returns: What does the function return?\n    :rtype: Type of the return value\n    \"\"\"\n",
    "    print('Ping')"
   ],
   "metadata": {
    "collapsed": false,
    "pycharm": {
     "name": "#%%\n"
    }
   }
  },
  {
   "cell_type": "code",
   "execution_count": 7,
   "outputs": [],
   "source": [
    "def multilineFunction(\n",
    "        param1,\n",
    "        param2,\n",
    "        param3,\n",
    "):\n",
    "# TODO: Fill out auto-generated docstring\n    \"\"\" Description of what function multilineFunction does. Can be multiline.\n    :param param1: Parameter description for param1\n    :type param1: Type of param1\n    :param param2: Parameter description for param2\n    :type param2: Type of param2\n    :param param3: Parameter description for param3\n    :type param3: Type of param3\n    :returns: What does the function return?\n    :rtype: Type of the return value\n    \"\"\"\n",
    "    print('Multiline')"
   ],
   "metadata": {
    "collapsed": false,
    "pycharm": {
     "name": "#%%\n"
    }
   }
  },
  {
   "cell_type": "code",
   "execution_count": 8,
   "outputs": [
    {
     "name": "stdout",
     "output_type": "stream",
     "text": [
      "Multiline\n"
     ]
    }
   ],
   "source": [
    "multilineFunction(1, 2, 3)"
   ],
   "metadata": {
    "collapsed": false,
    "pycharm": {
     "name": "#%%\n"
    }
   }
  },
  {
   "cell_type": "code",
   "execution_count": 9,
   "outputs": [],
   "source": [
    "def outerFunction():\n",
    "# TODO: Fill out auto-generated docstring\n    \"\"\" Description of what function outerFunction does. Can be multiline.\n    :returns: What does the function return?\n    :rtype: Type of the return value\n    \"\"\"\n",
    "    def indentedFunction(par1, par2):\n",
    "    # TODO: Fill out auto-generated docstring\n        \"\"\" Description of what function indentedFunction does. Can be multiline.\n        :param par1: Parameter description for par1\n        :type par1: Type of par1\n        :param par2: Parameter description for par2\n        :type par2: Type of par2\n        :returns: What does the function return?\n        :rtype: Type of the return value\n        \"\"\"\n",
    "        pass"
   ],
   "metadata": {
    "collapsed": false,
    "pycharm": {
     "name": "#%%\n"
    }
   }
  },
  {
   "cell_type": "code",
   "execution_count": null,
   "outputs": [],
   "source": [],
   "metadata": {
    "collapsed": false,
    "pycharm": {
     "name": "#%%\n"
    }
   }
  }
 ],
 "metadata": {
  "kernelspec": {
   "display_name": "Python 3",
   "language": "python",
   "name": "python3"
  },
  "language_info": {
   "codemirror_mode": {
    "name": "ipython",
    "version": 2
   },
   "file_extension": ".py",
   "mimetype": "text/x-python",
   "name": "python",
   "nbconvert_exporter": "python",
   "pygments_lexer": "ipython2",
   "version": "2.7.6"
  }
 },
 "nbformat": 4,
 "nbformat_minor": 0
}